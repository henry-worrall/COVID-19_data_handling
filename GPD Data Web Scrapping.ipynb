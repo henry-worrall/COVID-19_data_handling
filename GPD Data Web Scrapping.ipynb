{
 "cells": [
  {
   "cell_type": "markdown",
   "metadata": {},
   "source": [
    "# Web Scrapping to find the GPD of countries:\n",
    "\n",
    "The aim of this code is find out the population of different countries by using the <a href=\"https://www.worldometers.info/gdp/gdp-by-country/\" target=\"_blank\">worldometer.info</a> website. Then we shall save the data as a csv file for using with the COVID data being used on my tableau dashboard."
   ]
  },
  {
   "cell_type": "code",
   "execution_count": 1,
   "metadata": {
    "collapsed": true
   },
   "outputs": [],
   "source": [
    "#import useful packages\n",
    "from __future__ import print_function\n",
    "import pandas as pd\n",
    "import numpy as np\n",
    "import requests\n",
    "from bs4 import BeautifulSoup"
   ]
  },
  {
   "cell_type": "markdown",
   "metadata": {},
   "source": [
    "## Reading the webpage\n",
    "Firstly, we need to read the webpage into python. This is done using the requests library to obtain the html code formatting the webpage. The html code can be seen on any webpage by 'right-clicking' and viewing the 'source code'. It is this code that is read into python using the command below."
   ]
  },
  {
   "cell_type": "code",
   "execution_count": 2,
   "metadata": {
    "collapsed": true
   },
   "outputs": [],
   "source": [
    "#read the region data into script\n",
    "r = requests.get(\"https://www.worldometers.info/gdp/gdp-by-country/\")"
   ]
  },
  {
   "cell_type": "code",
   "execution_count": 3,
   "metadata": {},
   "outputs": [
    {
     "data": {
      "text/plain": [
       "'\\n<!DOCTYPE html><!--[if IE 8]> <html lang=\"en\" class=\"ie8\"> <![endif]--><!--[if IE 9]> <html lang=\"en\" class=\"ie9\"> <![endif]--><!--[if !IE]><!--> <html lang=\"en\"> <!--<![endif]--> <head> <meta charset=\"utf-8\"> <meta http-equiv=\"X-UA-Compatible\" content=\"IE=edge\"> <meta name=\"viewport\" content=\"width=device-width, initial-scale=1\"> <title>GDP by Country - Worldometer</title><meta name=\"description\" content=\"Countries in the world ranked by Gross Domestic Product (GDP). List and ranking of GDP gr'"
      ]
     },
     "execution_count": 3,
     "metadata": {},
     "output_type": "execute_result"
    }
   ],
   "source": [
    "r.text[0:500]"
   ]
  },
  {
   "cell_type": "markdown",
   "metadata": {},
   "source": [
    "### Parsing the html\n",
    "Currently, a string is loaded into the instance object r. In order for python to make better sense of the html code, we use an html parser with the following Beautiful Soup command."
   ]
  },
  {
   "cell_type": "code",
   "execution_count": 4,
   "metadata": {
    "collapsed": true
   },
   "outputs": [],
   "source": [
    "soup = BeautifulSoup(r.text, 'html.parser')"
   ]
  },
  {
   "cell_type": "markdown",
   "metadata": {},
   "source": [
    "## Retrieving relevant data\n",
    "We need to pick out the data relevant to us. This is the tabular data showing different countries by region. If we look at the 'source page', this data is in the following format:\n",
    "```\n",
    "<tr> <td style=\"text-align:center\">RANK</td> <td style=\"font-weight: bold; font-size:17px; text-align:left; padding-left:5px; padding-top:10px; padding-bottom:10px\"><a href=\"COUNTRY HYPERLINK\">COUNTRY</a></td> <td style=\"font-weight: bold; text-align:right;\">GDP</td> <td style=\"font-weight: bold; text-align:right;\">GPD ABBREV</td> <td style=\"font-weight: bold; text-align:right;\">GDP % GROWTH</td> <td style=\"font-weight: bold; text-align:right;\">POPULATION</td> <td style=\"font-weight: bold; text-align:right;\">GPD PER CAPITA</td> <td style=\"font-weight: bold; text-align:right;\">WORLD SHARE</td> </tr>\n",
    "```\n",
    "Therefore, we use the commands `.find_all('`TAG`', attrs={'`ATTRIBUTE`':'`ATTR VALUE`'})` to return results set which lists all of the instances of this tag used in the html."
   ]
  },
  {
   "cell_type": "code",
   "execution_count": 5,
   "metadata": {
    "collapsed": true
   },
   "outputs": [],
   "source": [
    "table = soup.find_all('tr') #note that the tag that encompasses the data we want is <tr> in html or 'tr' in python\n",
    "results = table[1:] #save the data as results. Note that the first instance of the tag is the column headers and isn't needed."
   ]
  },
  {
   "cell_type": "code",
   "execution_count": 6,
   "metadata": {},
   "outputs": [
    {
     "data": {
      "text/plain": [
       "189"
      ]
     },
     "execution_count": 6,
     "metadata": {},
     "output_type": "execute_result"
    }
   ],
   "source": [
    "len(results) "
   ]
  },
  {
   "cell_type": "code",
   "execution_count": 7,
   "metadata": {
    "collapsed": true
   },
   "outputs": [],
   "source": [
    "first_result = results[0]"
   ]
  },
  {
   "cell_type": "code",
   "execution_count": 8,
   "metadata": {},
   "outputs": [
    {
     "data": {
      "text/plain": [
       "<tr> <td style=\"text-align:center\">1</td> <td style=\"font-weight: bold; font-size:17px; text-align:left; padding-left:5px; padding-top:10px; padding-bottom:10px\"><a href=\"/gdp/us-gdp/\">United States</a></td> <td style=\"font-weight: bold; text-align:right;\">$19,485,394,000,000</td> <td style=\"font-weight: bold; text-align:right;\">$19.485 trillion</td> <td style=\"font-weight: bold; text-align:right;\">2.27%</td> <td style=\"font-weight: bold; text-align:right;\">325,084,756</td> <td style=\"font-weight: bold; text-align:right;\">$59,939</td> <td style=\"font-weight: bold; text-align:right;\">24.08%</td> </tr>"
      ]
     },
     "execution_count": 8,
     "metadata": {},
     "output_type": "execute_result"
    }
   ],
   "source": [
    "first_result"
   ]
  },
  {
   "cell_type": "markdown",
   "metadata": {},
   "source": [
    "### Slicing html tags"
   ]
  },
  {
   "cell_type": "code",
   "execution_count": 10,
   "metadata": {},
   "outputs": [
    {
     "data": {
      "text/plain": [
       "'United States'"
      ]
     },
     "execution_count": 10,
     "metadata": {},
     "output_type": "execute_result"
    }
   ],
   "source": [
    "#returns the first country\n",
    "first_result.find_all('td')[1].text"
   ]
  },
  {
   "cell_type": "code",
   "execution_count": 14,
   "metadata": {},
   "outputs": [
    {
     "data": {
      "text/plain": [
       "'19485394000000'"
      ]
     },
     "execution_count": 14,
     "metadata": {},
     "output_type": "execute_result"
    }
   ],
   "source": [
    "#returns the first GDP\n",
    "first_result.find_all('td')[2].text[1:].replace(',','')"
   ]
  },
  {
   "cell_type": "markdown",
   "metadata": {},
   "source": [
    "Now we have manage to return the information we want from the first data point in the results set (`results`), we can iterate through the entire set and return a list of tuples which represent the data points."
   ]
  },
  {
   "cell_type": "code",
   "execution_count": 16,
   "metadata": {},
   "outputs": [],
   "source": [
    "#iterate through the entire results list to find the country, region and hemisphere\n",
    "records = []\n",
    "for result in results:\n",
    "    country = result.find_all('td')[1].text\n",
    "    GDP = int(result.find_all('td')[2].text[1:].replace(',', ''))\n",
    "    records.append((country, GDP))"
   ]
  },
  {
   "cell_type": "code",
   "execution_count": 19,
   "metadata": {},
   "outputs": [
    {
     "data": {
      "text/plain": [
       "[('Marshall Islands', 204173430),\n",
       " ('Kiribati', 185572502),\n",
       " ('Tuvalu', 39731317)]"
      ]
     },
     "execution_count": 19,
     "metadata": {},
     "output_type": "execute_result"
    }
   ],
   "source": [
    "records[-3:]"
   ]
  },
  {
   "cell_type": "markdown",
   "metadata": {},
   "source": [
    "## Saving to a pandas DataFrame\n",
    "Having checked that the list of tuples shows the data we wanted to retrieve, we now need to save the list of tuples to a pandas dataframe."
   ]
  },
  {
   "cell_type": "code",
   "execution_count": 22,
   "metadata": {
    "collapsed": true
   },
   "outputs": [],
   "source": [
    "#create dataframe in pandas\n",
    "df4 = pd.DataFrame(records, columns=['Country/Region', 'GDP ($)'])"
   ]
  },
  {
   "cell_type": "code",
   "execution_count": null,
   "metadata": {},
   "outputs": [],
   "source": [
    "df4 = df4.replace('N.A.',np.NaN)\n",
    "df4 = df4.replace('N.' ,np.NaN)\n",
    "df4['Median Age'] = df4['Median Age'].astype('float64')\n",
    "df4['Ratio of Urban Population (%)'] = df4['Ratio of Urban Population (%)'].astype('float64')"
   ]
  },
  {
   "cell_type": "code",
   "execution_count": 24,
   "metadata": {},
   "outputs": [
    {
     "data": {
      "text/html": [
       "<div>\n",
       "<style>\n",
       "    .dataframe thead tr:only-child th {\n",
       "        text-align: right;\n",
       "    }\n",
       "\n",
       "    .dataframe thead th {\n",
       "        text-align: left;\n",
       "    }\n",
       "\n",
       "    .dataframe tbody tr th {\n",
       "        vertical-align: top;\n",
       "    }\n",
       "</style>\n",
       "<table border=\"1\" class=\"dataframe\">\n",
       "  <thead>\n",
       "    <tr style=\"text-align: right;\">\n",
       "      <th></th>\n",
       "      <th>Country/Region</th>\n",
       "      <th>GDP ($)</th>\n",
       "    </tr>\n",
       "  </thead>\n",
       "  <tbody>\n",
       "    <tr>\n",
       "      <th>184</th>\n",
       "      <td>Sao Tome &amp; Principe</td>\n",
       "      <td>392570293</td>\n",
       "    </tr>\n",
       "    <tr>\n",
       "      <th>185</th>\n",
       "      <td>Palau</td>\n",
       "      <td>289823500</td>\n",
       "    </tr>\n",
       "    <tr>\n",
       "      <th>186</th>\n",
       "      <td>Marshall Islands</td>\n",
       "      <td>204173430</td>\n",
       "    </tr>\n",
       "    <tr>\n",
       "      <th>187</th>\n",
       "      <td>Kiribati</td>\n",
       "      <td>185572502</td>\n",
       "    </tr>\n",
       "    <tr>\n",
       "      <th>188</th>\n",
       "      <td>Tuvalu</td>\n",
       "      <td>39731317</td>\n",
       "    </tr>\n",
       "  </tbody>\n",
       "</table>\n",
       "</div>"
      ],
      "text/plain": [
       "          Country/Region    GDP ($)\n",
       "184  Sao Tome & Principe  392570293\n",
       "185                Palau  289823500\n",
       "186     Marshall Islands  204173430\n",
       "187             Kiribati  185572502\n",
       "188               Tuvalu   39731317"
      ]
     },
     "execution_count": 24,
     "metadata": {},
     "output_type": "execute_result"
    }
   ],
   "source": [
    "df4.tail()"
   ]
  },
  {
   "cell_type": "code",
   "execution_count": 25,
   "metadata": {},
   "outputs": [
    {
     "data": {
      "text/plain": [
       "Country/Region    object\n",
       "GDP ($)            int64\n",
       "dtype: object"
      ]
     },
     "execution_count": 25,
     "metadata": {},
     "output_type": "execute_result"
    }
   ],
   "source": [
    "df4.dtypes"
   ]
  },
  {
   "cell_type": "code",
   "execution_count": 29,
   "metadata": {},
   "outputs": [],
   "source": [
    "df4.to_csv('GDP Data.csv', index=False, encoding='utf-8')"
   ]
  }
 ],
 "metadata": {
  "kernelspec": {
   "display_name": "Python 3",
   "language": "python",
   "name": "python3"
  },
  "language_info": {
   "codemirror_mode": {
    "name": "ipython",
    "version": 3
   },
   "file_extension": ".py",
   "mimetype": "text/x-python",
   "name": "python",
   "nbconvert_exporter": "python",
   "pygments_lexer": "ipython3",
   "version": "3.6.1"
  }
 },
 "nbformat": 4,
 "nbformat_minor": 2
}
